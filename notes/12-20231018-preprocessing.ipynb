{
 "cells": [
  {
   "cell_type": "code",
   "execution_count": 1,
   "metadata": {},
   "outputs": [
    {
     "name": "stdout",
     "output_type": "stream",
     "text": [
      "Requirement already satisfied: pip in c:\\users\\sungw\\appdata\\local\\programs\\python\\python311\\lib\\site-packages (23.2.1)\n",
      "Collecting pip\n",
      "  Obtaining dependency information for pip from https://files.pythonhosted.org/packages/e0/63/b428aaca15fcd98c39b07ca7149e24bc14205ad0f1c80ba2b01835aedde1/pip-23.3-py3-none-any.whl.metadata\n",
      "  Downloading pip-23.3-py3-none-any.whl.metadata (3.5 kB)\n",
      "Requirement already satisfied: tqdm in c:\\users\\sungw\\appdata\\local\\programs\\python\\python311\\lib\\site-packages (4.66.1)\n",
      "Requirement already satisfied: colorama in c:\\users\\sungw\\appdata\\local\\programs\\python\\python311\\lib\\site-packages (from tqdm) (0.4.6)\n",
      "Downloading pip-23.3-py3-none-any.whl (2.1 MB)\n",
      "   ---------------------------------------- 0.0/2.1 MB ? eta -:--:--\n",
      "   ---- ----------------------------------- 0.2/2.1 MB 7.6 MB/s eta 0:00:01\n",
      "   ------ --------------------------------- 0.4/2.1 MB 3.7 MB/s eta 0:00:01\n",
      "   -------- ------------------------------- 0.5/2.1 MB 3.7 MB/s eta 0:00:01\n",
      "   ------------ --------------------------- 0.6/2.1 MB 3.7 MB/s eta 0:00:01\n",
      "   -------------- ------------------------- 0.8/2.1 MB 3.5 MB/s eta 0:00:01\n",
      "   ---------------- ----------------------- 0.9/2.1 MB 3.3 MB/s eta 0:00:01\n",
      "   ------------------- -------------------- 1.0/2.1 MB 3.2 MB/s eta 0:00:01\n",
      "   --------------------- ------------------ 1.1/2.1 MB 3.2 MB/s eta 0:00:01\n",
      "   ------------------------ --------------- 1.3/2.1 MB 3.3 MB/s eta 0:00:01\n",
      "   --------------------------- ------------ 1.5/2.1 MB 3.2 MB/s eta 0:00:01\n",
      "   ------------------------------ --------- 1.6/2.1 MB 3.2 MB/s eta 0:00:01\n",
      "   --------------------------------- ------ 1.8/2.1 MB 3.3 MB/s eta 0:00:01\n",
      "   ---------------------------------- ----- 1.8/2.1 MB 3.3 MB/s eta 0:00:01\n",
      "   ---------------------------------------  2.1/2.1 MB 3.3 MB/s eta 0:00:01\n",
      "   ---------------------------------------- 2.1/2.1 MB 3.3 MB/s eta 0:00:00\n",
      "Installing collected packages: pip\n",
      "  Attempting uninstall: pip\n",
      "    Found existing installation: pip 23.2.1\n",
      "    Uninstalling pip-23.2.1:\n",
      "      Successfully uninstalled pip-23.2.1\n",
      "Successfully installed pip-23.3\n",
      "Note: you may need to restart the kernel to use updated packages.\n"
     ]
    }
   ],
   "source": [
    "%pip install -U pip tqdm"
   ]
  },
  {
   "cell_type": "code",
   "execution_count": 2,
   "metadata": {},
   "outputs": [],
   "source": [
    "# zip 파일을 읽기 위한 라이브러리 가져오기\n",
    "import zipfile\n",
    "\n",
    "# json 파일을 읽기 위한 라이브러리 가져오기\n",
    "import json\n",
    "\n",
    "#\n",
    "from tqdm import tqdm\n",
    "import pickle\n",
    "import pandas as pd"
   ]
  },
  {
   "cell_type": "code",
   "execution_count": 3,
   "metadata": {},
   "outputs": [
    {
     "name": "stderr",
     "output_type": "stream",
     "text": [
      "100%|██████████| 47424/47424 [00:37<00:00, 1277.47it/s]\n"
     ]
    }
   ],
   "source": [
    "zipfilename = \"../NIKL_OM_2021_v1.1.zip\"\n",
    "\n",
    "# 발화 리스트 초기화\n",
    "utterances_list = [] \n",
    "\n",
    "# 발화자 리스트 초기화\n",
    "speakers_list = []\n",
    "\n",
    "# 압축된 zip 파일 읽기\n",
    "with zipfile.ZipFile(zipfilename) as z:\n",
    "  # 말뭉치 압축 파일(z) 내에 들어 있는 파일을 하나씩 처리하기\n",
    "  for filename in tqdm(z.namelist()):\n",
    "    # 파일이 JSON 이외의 형식인 경우 읽지 않고 넘어가기\n",
    "    if not filename.endswith(('.json', '.JSON')):\n",
    "      continue\n",
    "\n",
    "    # JSON 파일을 열어서 그 내용을 data라는 이름으로 저장하기\n",
    "    with z.open(filename) as f:  \n",
    "      data = json.loads(f.read().decode(\"utf-8\"))  \n",
    "\n",
    "    # 현재 읽고 있는 파일에 포함된 문서를 하나씩 처리하기\n",
    "    for document in data['document']:\n",
    "      # 발화 목록 업데이트:\n",
    "      # 문서의 발화 목록을 기존 목록에 더하기\n",
    "      utterances_list.extend(document['utterance'])\n",
    "\n",
    "      # 발화자 목록 업데이트:\n",
    "      # 문서의 메타 정보에서 발화자 값을 하나씩 처리하기\n",
    "      for speaker in document['metadata']['speaker']:\n",
    "        # 현재의 발화자(speaker)가 기존 목록(speakers_list)에 있는 경우 그냥 넘어가기\n",
    "        if speaker in speakers_list:\n",
    "          continue\n",
    "        # 그렇지 않은 경우 현재의 발화자를 기존 목록에 추가하기\n",
    "        else:\n",
    "          speakers_list.append(speaker)"
   ]
  },
  {
   "cell_type": "code",
   "execution_count": 12,
   "metadata": {},
   "outputs": [],
   "source": [
    "df_utterances = pd.DataFrame(utterances_list).to_csv('../NIKL_OM_utterances.csv')\n",
    "df_speakers = pd.DataFrame(speakers_list).to_csv('../NIKL_OM_speakers.csv')"
   ]
  },
  {
   "cell_type": "code",
   "execution_count": 14,
   "metadata": {},
   "outputs": [],
   "source": [
    "!tar -czf ../NIKL_OM_utterances.csv.tar.gz ../NIKL_OM_utterances.csv\n",
    "!tar -czf ../NIKL_OM_speakers.csv.tar.gz ../NIKL_OM_speakers.csv"
   ]
  },
  {
   "cell_type": "code",
   "execution_count": 15,
   "metadata": {},
   "outputs": [
    {
     "name": "stdout",
     "output_type": "stream",
     "text": [
      "rm: ../NIKL_OM_2021_v1.1.zip: No such file or directory\n"
     ]
    }
   ],
   "source": [
    "!rm ../NIKL_OM_2021_v1.1.zip\n",
    "!rm ../NIKL_OM_speakers.csv\n",
    "!rm ../NIKL_OM_utterances.csv"
   ]
  }
 ],
 "metadata": {
  "kernelspec": {
   "display_name": "Python 3",
   "language": "python",
   "name": "python3"
  },
  "language_info": {
   "codemirror_mode": {
    "name": "ipython",
    "version": 3
   },
   "file_extension": ".py",
   "mimetype": "text/x-python",
   "name": "python",
   "nbconvert_exporter": "python",
   "pygments_lexer": "ipython3",
   "version": "3.11.4"
  }
 },
 "nbformat": 4,
 "nbformat_minor": 2
}
