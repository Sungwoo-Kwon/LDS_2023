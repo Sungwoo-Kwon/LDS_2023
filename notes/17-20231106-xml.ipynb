{
 "cells": [
  {
   "cell_type": "code",
   "execution_count": null,
   "metadata": {},
   "outputs": [],
   "source": [
    "# 오늘의 목표\n",
    "\n",
    "1. XML 파일의 구조를 이해하고 beautifulsoup(bs4) 라이브러리를 통해 내부 정보를 추출할 수 있다.\n",
    "\n",
    "2. 유니코드 인코딩에서 한글 문자를 어떻게 표현하고 처리하는지 설명할 수 있다."
   ]
  },
  {
   "cell_type": "code",
   "execution_count": null,
   "metadata": {},
   "outputs": [],
   "source": [
    "한글 음절 구조 추출\n",
    "\n",
    "뷁 : CGVCC\n",
    "아 : V\n"
   ]
  },
  {
   "cell_type": "code",
   "execution_count": null,
   "metadata": {},
   "outputs": [],
   "source": [
    "1. 파일명 변경: '전체 내려받기_표준국어대사전_xml_20231105.zip' -- stdict_xml_20231105.zip\n",
    "2. lds2023/data 폴더로 이동"
   ]
  },
  {
   "cell_type": "code",
   "execution_count": 1,
   "metadata": {},
   "outputs": [
    {
     "name": "stdout",
     "output_type": "stream",
     "text": [
      "Requirement already satisfied: pip in c:\\users\\sungw\\appdata\\local\\programs\\python\\python311\\lib\\site-packages (23.3)\n",
      "Collecting pip\n",
      "  Downloading pip-23.3.1-py3-none-any.whl.metadata (3.5 kB)\n",
      "Collecting bs4\n",
      "  Downloading bs4-0.0.1.tar.gz (1.1 kB)\n",
      "  Installing build dependencies: started\n",
      "  Installing build dependencies: finished with status 'done'\n",
      "  Getting requirements to build wheel: started\n",
      "  Getting requirements to build wheel: finished with status 'done'\n",
      "  Preparing metadata (pyproject.toml): started\n",
      "  Preparing metadata (pyproject.toml): finished with status 'done'\n",
      "Requirement already satisfied: lxml in c:\\users\\sungw\\appdata\\local\\programs\\python\\python311\\lib\\site-packages (4.9.3)\n",
      "Requirement already satisfied: beautifulsoup4 in c:\\users\\sungw\\appdata\\local\\programs\\python\\python311\\lib\\site-packages (from bs4) (4.12.2)\n",
      "Requirement already satisfied: soupsieve>1.2 in c:\\users\\sungw\\appdata\\local\\programs\\python\\python311\\lib\\site-packages (from beautifulsoup4->bs4) (2.4.1)\n",
      "Downloading pip-23.3.1-py3-none-any.whl (2.1 MB)\n",
      "   ---------------------------------------- 0.0/2.1 MB ? eta -:--:--\n",
      "   --- ------------------------------------ 0.2/2.1 MB 5.9 MB/s eta 0:00:01\n",
      "   ------ --------------------------------- 0.4/2.1 MB 4.5 MB/s eta 0:00:01\n",
      "   ---------- ----------------------------- 0.6/2.1 MB 5.2 MB/s eta 0:00:01\n",
      "   -------------- ------------------------- 0.8/2.1 MB 4.5 MB/s eta 0:00:01\n",
      "   ----------------- ---------------------- 0.9/2.1 MB 4.5 MB/s eta 0:00:01\n",
      "   -------------------- ------------------- 1.1/2.1 MB 4.3 MB/s eta 0:00:01\n",
      "   ------------------------ --------------- 1.3/2.1 MB 4.4 MB/s eta 0:00:01\n",
      "   ---------------------------- ----------- 1.5/2.1 MB 4.6 MB/s eta 0:00:01\n",
      "   -------------------------------- ------- 1.7/2.1 MB 4.6 MB/s eta 0:00:01\n",
      "   ------------------------------------- -- 2.0/2.1 MB 4.8 MB/s eta 0:00:01\n",
      "   ------------------------------------- -- 2.0/2.1 MB 4.7 MB/s eta 0:00:01\n",
      "   ---------------------------------------- 2.1/2.1 MB 4.2 MB/s eta 0:00:00\n",
      "Building wheels for collected packages: bs4\n",
      "  Building wheel for bs4 (pyproject.toml): started\n",
      "  Building wheel for bs4 (pyproject.toml): finished with status 'done'\n",
      "  Created wheel for bs4: filename=bs4-0.0.1-py3-none-any.whl size=1266 sha256=5b35d0c32dfbde0011e264d39e0566113c54513eba2de87c2099800a2292c618\n",
      "  Stored in directory: c:\\users\\sungw\\appdata\\local\\pip\\cache\\wheels\\d4\\c8\\5b\\b5be9c20e5e4503d04a6eac8a3cd5c2393505c29f02bea0960\n",
      "Successfully built bs4\n",
      "Installing collected packages: pip, bs4\n",
      "  Attempting uninstall: pip\n",
      "    Found existing installation: pip 23.3\n",
      "    Uninstalling pip-23.3:\n",
      "      Successfully uninstalled pip-23.3\n",
      "Successfully installed bs4-0.0.1 pip-23.3.1\n",
      "Note: you may need to restart the kernel to use updated packages.\n"
     ]
    }
   ],
   "source": [
    "%pip install -U pip bs4 lxml"
   ]
  },
  {
   "cell_type": "code",
   "execution_count": 2,
   "metadata": {},
   "outputs": [],
   "source": [
    "# 압축 파일 읽기\n",
    "\n",
    "import zipfile\n",
    "from bs4 import BeautifulSoup #xml 객체 처리하기\n",
    "import pandas as pd\n"
   ]
  },
  {
   "cell_type": "code",
   "execution_count": 3,
   "metadata": {},
   "outputs": [],
   "source": [
    "zipfilename = '../data/stdict_xml_20231105.zip'"
   ]
  },
  {
   "cell_type": "code",
   "execution_count": 5,
   "metadata": {},
   "outputs": [
    {
     "name": "stdout",
     "output_type": "stream",
     "text": [
      "['1228490_75000.xml', '1228490_145000.xml', '1228490_110000.xml', '1228490_325000.xml', '1228490_340000.xml', '1228490_90000.xml', '1228490_175000.xml', '1228490_130000.xml', '1228490_355000.xml', '1228490_35000.xml', '1228490_210000.xml', '1228490_125000.xml', '1228490_170000.xml', '1228490_95000.xml', '1228490_160000.xml', '1228490_10000.xml', '1228490_85000.xml', '1228490_385000.xml', '1228490_315000.xml', '1228490_395000.xml', '1228490_270000.xml', '1228490_365000.xml', '1228490_70000.xml', '1228490_150000.xml', '1228490_60000.xml', '1228490_350000.xml', '1228490_55000.xml', '1228490_275000.xml', '1228490_40000.xml', '1228490_370000.xml', '1228490_255000.xml', '1228490_415000.xml', '1228490_310000.xml', '1228490_330000.xml', '1228490_375000.xml', '1228490_135000.xml', '1228490_15000.xml', '1228490_260000.xml', '1228490_390000.xml', '1228490_265000.xml', '1228490_120000.xml', '1228490_100000.xml', '1228490_400000.xml', '1228490_45000.xml', '1228490_155000.xml', '1228490_345000.xml', '1228490_230000.xml', '1228490_20000.xml', '1228490_225000.xml', '1228490_185000.xml', '1228490_434870.xml', '1228490_190000.xml', '1228490_80000.xml', '1228490_165000.xml', '1228490_205000.xml', '1228490_115000.xml', '1228490_105000.xml', '1228490_245000.xml', '1228490_140000.xml', '1228490_65000.xml', '1228490_250000.xml', '1228490_280000.xml', '1228490_405000.xml', '1228490_410000.xml', '1228490_420000.xml', '1228490_180000.xml', '1228490_50000.xml', '1228490_195000.xml', '1228490_300000.xml', '1228490_360000.xml', '1228490_30000.xml', '1228490_320000.xml', '1228490_425000.xml', '1228490_25000.xml', '1228490_235000.xml', '1228490_335000.xml', '1228490_290000.xml', '1228490_215000.xml', '1228490_240000.xml', '1228490_200000.xml', '1228490_295000.xml', '1228490_285000.xml', '1228490_380000.xml', '1228490_430000.xml', '1228490_5000.xml', '1228490_305000.xml', '1228490_220000.xml']\n",
      "87\n"
     ]
    }
   ],
   "source": [
    "z =  zipfile.ZipFile(zipfilename)\n",
    "filenames = z.namelist()\n",
    "print(filenames)\n",
    "print(len(filenames))"
   ]
  },
  {
   "cell_type": "code",
   "execution_count": 7,
   "metadata": {},
   "outputs": [
    {
     "name": "stdout",
     "output_type": "stream",
     "text": [
      "6931925\n"
     ]
    }
   ],
   "source": [
    "fname =  filenames[0]\n",
    "f = z.open(fname)\n",
    "text = f.read().decode('utf-8')\n",
    "print(len(text))"
   ]
  },
  {
   "cell_type": "code",
   "execution_count": 10,
   "metadata": {},
   "outputs": [
    {
     "name": "stdout",
     "output_type": "stream",
     "text": [
      "<class 'bs4.BeautifulSoup'>\n"
     ]
    }
   ],
   "source": [
    "soup =  BeautifulSoup(text, features='xml')\n",
    "\n",
    "soup # 'item' 태그 안에 단어가 들어있는 것 같다.\n",
    "\n",
    "print(type(soup))"
   ]
  },
  {
   "cell_type": "code",
   "execution_count": 12,
   "metadata": {},
   "outputs": [
    {
     "data": {
      "text/plain": [
       "<item>\n",
       "<target_code>64517</target_code>\n",
       "<word_info>\n",
       "<word>낯-익다</word>\n",
       "<word_unit>단어</word_unit>\n",
       "<word_type>고유어</word_type>\n",
       "<original_language_info>\n",
       "<original_language>null</original_language>\n",
       "<language_type>고유어</language_type>\n",
       "</original_language_info>\n",
       "<pronunciation_info>\n",
       "<pronunciation>난닉따</pronunciation>\n",
       "</pronunciation_info>\n",
       "<conju_info>\n",
       "<conjugation_info>\n",
       "<conjugation>낯익어</conjugation>\n",
       "</conjugation_info>\n",
       "</conju_info>\n",
       "<conju_info>\n",
       "<conjugation_info>\n",
       "<conjugation>낯익으니</conjugation>\n",
       "</conjugation_info>\n",
       "</conju_info>\n",
       "<relation_info>\n",
       "<word>낯익은 도끼에 발등 찍힌다</word>\n",
       "<type>속담</type>\n",
       "<link_target_code>520331</link_target_code>\n",
       "<link>https://stdict.korean.go.kr/search/searchView.do?word_no=520331&amp;searchKeywordTo=1</link>\n",
       "</relation_info>\n",
       "<lexical_info>\n",
       "<word>낯-설다</word>\n",
       "<unit>어휘</unit>\n",
       "<type>반대말</type>\n",
       "<link_target_code>403933</link_target_code>\n",
       "<link>https://stdict.korean.go.kr/search/searchView.do?word_no=403933&amp;searchKeywordTo=3</link>\n",
       "</lexical_info>\n",
       "<pos_info>\n",
       "<pos_code>64517001</pos_code>\n",
       "<pos>형용사</pos>\n",
       "<comm_pattern_info>\n",
       "<comm_pattern_code>64517001001</comm_pattern_code>\n",
       "<pattern_info>\n",
       "<pattern>…이</pattern>\n",
       "</pattern_info>\n",
       "<sense_info>\n",
       "<sense_code>368472</sense_code>\n",
       "<type>일반어</type>\n",
       "<definition>여러 번 보아서 눈에 익거나 친숙하다.</definition>\n",
       "<definition_original>여러 번 보아서 눈에 익거나 친숙하다.</definition_original>\n",
       "<example_info>\n",
       "<example>얼굴은 낯익은데 이름이 생각나지 않는다.</example>\n",
       "</example_info>\n",
       "<example_info>\n",
       "<example>황제는 눈을 들어 늙은 여승을 바라보았으나 막연히 낯익다는 느낌뿐 얼른 알아볼 수 없었다.</example>\n",
       "<source>이문열, 황제를 위하여</source>\n",
       "</example_info>\n",
       "<example_info>\n",
       "<example>그녀의 눈짓 그녀의 주름살 하나까지도 그에겐 모두 사랑스럽고 낯익은 것이었다.</example>\n",
       "<source>홍성원, 육이오</source>\n",
       "</example_info>\n",
       "<lexical_info>\n",
       "<word>면숙-하다</word>\n",
       "<unit>의미</unit>\n",
       "<type>비슷한말</type>\n",
       "<link_target_code>383863</link_target_code>\n",
       "<link>https://stdict.korean.go.kr/search/searchView.do?word_no=419202&amp;searchKeywordTo=3</link>\n",
       "</lexical_info>\n",
       "</sense_info>\n",
       "<sense_info>\n",
       "<sense_code>371419</sense_code>\n",
       "<type>일반어</type>\n",
       "<definition>사물이 눈에 익다.</definition>\n",
       "<definition_original>사물이 눈에 익다.</definition_original>\n",
       "<example_info>\n",
       "<example>가방이 낯익어 나는 친구가 찾아온 것을 알았다.</example>\n",
       "</example_info>\n",
       "</sense_info>\n",
       "</comm_pattern_info>\n",
       "</pos_info>\n",
       "</word_info>\n",
       "</item>"
      ]
     },
     "execution_count": 12,
     "metadata": {},
     "output_type": "execute_result"
    }
   ],
   "source": [
    "#xml 객체에서 특정한 tag 정보에 접근하기\n",
    "\n",
    "#bs4.BeautifulSoup.find(<tag name>)\n",
    "item0 =  soup.find('item')\n",
    "item0"
   ]
  },
  {
   "cell_type": "markdown",
   "metadata": {},
   "source": [
    "관심 있는 태그\n",
    "+ target code, word, word type, word unit, pos"
   ]
  },
  {
   "cell_type": "code",
   "execution_count": 13,
   "metadata": {},
   "outputs": [
    {
     "name": "stdout",
     "output_type": "stream",
     "text": [
      "<class 'bs4.element.Tag'>\n"
     ]
    }
   ],
   "source": [
    "print(type(item0))"
   ]
  },
  {
   "cell_type": "code",
   "execution_count": 15,
   "metadata": {},
   "outputs": [
    {
     "name": "stdout",
     "output_type": "stream",
     "text": [
      "<target_code>64517</target_code>\n",
      "<word>낯-익다</word>\n",
      "<word_unit>단어</word_unit>\n",
      "<word_type>고유어</word_type>\n",
      "<pos>형용사</pos>\n"
     ]
    }
   ],
   "source": [
    "tags = ('target_code','word','word_unit','word_type','pos')\n",
    "\n",
    "for tag in tags:\n",
    "    print(item0.find(tag))"
   ]
  },
  {
   "cell_type": "code",
   "execution_count": 17,
   "metadata": {},
   "outputs": [
    {
     "name": "stdout",
     "output_type": "stream",
     "text": [
      "5000\n"
     ]
    }
   ],
   "source": [
    "# 모든 item을 찾고자 할 때:\n",
    "\n",
    "#bs4.BeautifulSoup.find_all(<tag name>)\n",
    "\n",
    "items = soup.find_all('item')\n",
    "print(len(items))\n"
   ]
  },
  {
   "cell_type": "code",
   "execution_count": 18,
   "metadata": {},
   "outputs": [
    {
     "data": {
      "text/plain": [
       "<target_code>64517</target_code>"
      ]
     },
     "execution_count": 18,
     "metadata": {},
     "output_type": "execute_result"
    }
   ],
   "source": [
    "item0 = items[0]\n",
    "item0.find(tags[0])"
   ]
  },
  {
   "cell_type": "code",
   "execution_count": 19,
   "metadata": {},
   "outputs": [
    {
     "name": "stdout",
     "output_type": "stream",
     "text": [
      "64517\n"
     ]
    }
   ],
   "source": [
    "#`bs4.Element.tag` 객체에서 content만 가져오기\n",
    "\n",
    "#bs4.Element.tag.text\n",
    "\n",
    "print(item0.find(tags[0]).text)"
   ]
  },
  {
   "cell_type": "code",
   "execution_count": 30,
   "metadata": {},
   "outputs": [
    {
     "name": "stdout",
     "output_type": "stream",
     "text": [
      "<class 'NoneType'>\n"
     ]
    }
   ],
   "source": [
    "print(type(item0.find('candy')))"
   ]
  },
  {
   "cell_type": "code",
   "execution_count": 31,
   "metadata": {},
   "outputs": [],
   "source": [
    "def get_content(soup, tag):\n",
    "    return soup.find(tag)\n",
    "\n",
    "    if find:\n",
    "        return find.text\n",
    "    else:\n",
    "        return ''"
   ]
  },
  {
   "cell_type": "code",
   "execution_count": 21,
   "metadata": {},
   "outputs": [
    {
     "name": "stdout",
     "output_type": "stream",
     "text": [
      "낯-익다\n"
     ]
    }
   ],
   "source": [
    "print(get_content(item0, 'word'))"
   ]
  },
  {
   "cell_type": "code",
   "execution_count": 32,
   "metadata": {},
   "outputs": [],
   "source": [
    "def to_dict(item, tags=tags): \n",
    "    #{tag: content} form dict\n",
    "    return {tag: get_content(item, tag) for tag in tags}"
   ]
  },
  {
   "cell_type": "code",
   "execution_count": 26,
   "metadata": {},
   "outputs": [
    {
     "data": {
      "text/plain": [
       "{'target_code': '64517',\n",
       " 'word': '낯-익다',\n",
       " 'word_unit': '단어',\n",
       " 'word_type': '고유어',\n",
       " 'pos': '형용사'}"
      ]
     },
     "execution_count": 26,
     "metadata": {},
     "output_type": "execute_result"
    }
   ],
   "source": [
    "to_dict(item0)"
   ]
  },
  {
   "cell_type": "code",
   "execution_count": 33,
   "metadata": {},
   "outputs": [],
   "source": [
    "for item in items:\n",
    "    try:\n",
    "        to_dict(item)\n",
    "    except:\n",
    "        print(item)\n",
    "        break"
   ]
  },
  {
   "cell_type": "code",
   "execution_count": 36,
   "metadata": {},
   "outputs": [
    {
     "data": {
      "text/html": [
       "<div>\n",
       "<style scoped>\n",
       "    .dataframe tbody tr th:only-of-type {\n",
       "        vertical-align: middle;\n",
       "    }\n",
       "\n",
       "    .dataframe tbody tr th {\n",
       "        vertical-align: top;\n",
       "    }\n",
       "\n",
       "    .dataframe thead th {\n",
       "        text-align: right;\n",
       "    }\n",
       "</style>\n",
       "<table border=\"1\" class=\"dataframe\">\n",
       "  <thead>\n",
       "    <tr style=\"text-align: right;\">\n",
       "      <th></th>\n",
       "      <th>target_code</th>\n",
       "      <th>word</th>\n",
       "      <th>word_unit</th>\n",
       "      <th>word_type</th>\n",
       "      <th>pos</th>\n",
       "    </tr>\n",
       "  </thead>\n",
       "  <tbody>\n",
       "    <tr>\n",
       "      <th>0</th>\n",
       "      <td>[64517]</td>\n",
       "      <td>[낯-익다]</td>\n",
       "      <td>[단어]</td>\n",
       "      <td>[고유어]</td>\n",
       "      <td>[형용사]</td>\n",
       "    </tr>\n",
       "    <tr>\n",
       "      <th>1</th>\n",
       "      <td>[520331]</td>\n",
       "      <td>[낯익은 도끼에 발등 찍힌다]</td>\n",
       "      <td>[속담]</td>\n",
       "      <td>None</td>\n",
       "      <td>[구]</td>\n",
       "    </tr>\n",
       "    <tr>\n",
       "      <th>2</th>\n",
       "      <td>[64518]</td>\n",
       "      <td>[낯익-히다]</td>\n",
       "      <td>[단어]</td>\n",
       "      <td>[고유어]</td>\n",
       "      <td>[동사]</td>\n",
       "    </tr>\n",
       "    <tr>\n",
       "      <th>3</th>\n",
       "      <td>[64570]</td>\n",
       "      <td>[낯-짝]</td>\n",
       "      <td>[단어]</td>\n",
       "      <td>[고유어]</td>\n",
       "      <td>[명사]</td>\n",
       "    </tr>\n",
       "    <tr>\n",
       "      <th>4</th>\n",
       "      <td>[520337]</td>\n",
       "      <td>[낯짝(이) 두껍다]</td>\n",
       "      <td>[관용구]</td>\n",
       "      <td>None</td>\n",
       "      <td>[구]</td>\n",
       "    </tr>\n",
       "    <tr>\n",
       "      <th>...</th>\n",
       "      <td>...</td>\n",
       "      <td>...</td>\n",
       "      <td>...</td>\n",
       "      <td>...</td>\n",
       "      <td>...</td>\n",
       "    </tr>\n",
       "    <tr>\n",
       "      <th>4995</th>\n",
       "      <td>[68596]</td>\n",
       "      <td>[노-자영]</td>\n",
       "      <td>[단어]</td>\n",
       "      <td>[한자어]</td>\n",
       "      <td>[명사]</td>\n",
       "    </tr>\n",
       "    <tr>\n",
       "      <th>4996</th>\n",
       "      <td>[68597]</td>\n",
       "      <td>[노자-온]</td>\n",
       "      <td>[단어]</td>\n",
       "      <td>[한자어]</td>\n",
       "      <td>[명사]</td>\n",
       "    </tr>\n",
       "    <tr>\n",
       "      <th>4997</th>\n",
       "      <td>[68598]</td>\n",
       "      <td>[노자-작]</td>\n",
       "      <td>[단어]</td>\n",
       "      <td>[한자어]</td>\n",
       "      <td>[명사]</td>\n",
       "    </tr>\n",
       "    <tr>\n",
       "      <th>4998</th>\n",
       "      <td>[509623]</td>\n",
       "      <td>[노자-푼]</td>\n",
       "      <td>[단어]</td>\n",
       "      <td>[혼종어]</td>\n",
       "      <td>[명사]</td>\n",
       "    </tr>\n",
       "    <tr>\n",
       "      <th>4999</th>\n",
       "      <td>[68599]</td>\n",
       "      <td>[노자^협조]</td>\n",
       "      <td>[구]</td>\n",
       "      <td>[한자어]</td>\n",
       "      <td>[품사 없음]</td>\n",
       "    </tr>\n",
       "  </tbody>\n",
       "</table>\n",
       "<p>5000 rows × 5 columns</p>\n",
       "</div>"
      ],
      "text/plain": [
       "     target_code              word word_unit word_type      pos\n",
       "0        [64517]            [낯-익다]      [단어]     [고유어]    [형용사]\n",
       "1       [520331]  [낯익은 도끼에 발등 찍힌다]      [속담]      None      [구]\n",
       "2        [64518]           [낯익-히다]      [단어]     [고유어]     [동사]\n",
       "3        [64570]             [낯-짝]      [단어]     [고유어]     [명사]\n",
       "4       [520337]       [낯짝(이) 두껍다]     [관용구]      None      [구]\n",
       "...          ...               ...       ...       ...      ...\n",
       "4995     [68596]            [노-자영]      [단어]     [한자어]     [명사]\n",
       "4996     [68597]            [노자-온]      [단어]     [한자어]     [명사]\n",
       "4997     [68598]            [노자-작]      [단어]     [한자어]     [명사]\n",
       "4998    [509623]            [노자-푼]      [단어]     [혼종어]     [명사]\n",
       "4999     [68599]           [노자^협조]       [구]     [한자어]  [품사 없음]\n",
       "\n",
       "[5000 rows x 5 columns]"
      ]
     },
     "execution_count": 36,
     "metadata": {},
     "output_type": "execute_result"
    }
   ],
   "source": [
    "# BeautifulSoup --> DataFrame\n",
    "\n",
    "df5000 = pd.DataFrame([to_dict(item) for item in items])\n",
    "df5000"
   ]
  },
  {
   "cell_type": "code",
   "execution_count": 37,
   "metadata": {},
   "outputs": [],
   "source": [
    "f.close()\n",
    "z.close()"
   ]
  }
 ],
 "metadata": {
  "kernelspec": {
   "display_name": "Python 3",
   "language": "python",
   "name": "python3"
  },
  "language_info": {
   "codemirror_mode": {
    "name": "ipython",
    "version": 3
   },
   "file_extension": ".py",
   "mimetype": "text/x-python",
   "name": "python",
   "nbconvert_exporter": "python",
   "pygments_lexer": "ipython3",
   "version": "3.11.4"
  }
 },
 "nbformat": 4,
 "nbformat_minor": 2
}
