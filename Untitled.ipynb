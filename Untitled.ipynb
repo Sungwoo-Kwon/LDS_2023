{
 "cells": [
  {
   "cell_type": "code",
   "execution_count": 6,
   "id": "96aab4e2-fded-46c9-9e5a-ee9717bbc2da",
   "metadata": {},
   "outputs": [
    {
     "name": "stdout",
     "output_type": "stream",
     "text": [
      "[('PEPPER', 456), ('BROTH', 383), ('WINE', 338), ('OIL', 329), ('HONEY', 210)]\n"
     ]
    },
    {
     "name": "stderr",
     "output_type": "stream",
     "text": [
      "[nltk_data] Downloading package stopwords to\n",
      "[nltk_data]     C:\\Users\\sungw\\AppData\\Roaming\\nltk_data...\n",
      "[nltk_data]   Package stopwords is already up-to-date!\n"
     ]
    }
   ],
   "source": [
    "from collections import Counter\n",
    "import nltk\n",
    "counter_all = Counter()\n",
    "\n",
    "with open('word-freq.txt', 'r') as file:\n",
    "    for line in file:\n",
    "        count, word = line.strip().split(None, 1) \n",
    "        counter_all[word] = int(count)  \n",
    "\n",
    "nltk.download('stopwords')\n",
    "stopword_list = nltk.corpus.stopwords.words('english')\n",
    "\n",
    "counter_content = Counter({word: count for word, count in counter_all.items() if word.lower() not in stopword_list})\n",
    "\n",
    "print(counter_content.most_common(5))"
   ]
  },
  {
   "cell_type": "code",
   "execution_count": 5,
   "id": "27e9e9f6-7b79-4a79-b636-30beb4a995bb",
   "metadata": {},
   "outputs": [
    {
     "name": "stdout",
     "output_type": "stream",
     "text": [
      "[('AND', 1194), ('THE', 974), ('WITH', 688), ('PEPPER', 456), ('BROTH', 383)]\n"
     ]
    }
   ],
   "source": [
    "counter_content = counter_all - Counter(stopword_list)\n",
    "print(counter_content.most_common(5))"
   ]
  }
 ],
 "metadata": {
  "kernelspec": {
   "display_name": "Python 3 (ipykernel)",
   "language": "python",
   "name": "python3"
  },
  "language_info": {
   "codemirror_mode": {
    "name": "ipython",
    "version": 3
   },
   "file_extension": ".py",
   "mimetype": "text/x-python",
   "name": "python",
   "nbconvert_exporter": "python",
   "pygments_lexer": "ipython3",
   "version": "3.11.4"
  }
 },
 "nbformat": 4,
 "nbformat_minor": 5
}
